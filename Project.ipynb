{
 "cells": [
  {
   "cell_type": "code",
   "execution_count": 1,
   "metadata": {},
   "outputs": [
    {
     "name": "stdout",
     "output_type": "stream",
     "text": [
      "'1. Regression - Module - (Housing Prices).csv'  \u001b[0m\u001b[01;31m'Linear Regression.zip'\u001b[0m\n",
      " \u001b[01;35m2013_consumption.png\u001b[0m                             \u001b[01;32mpie.py\u001b[0m*\n",
      " \u001b[01;32mbar.py\u001b[0m*                                          print.pdf\n",
      " \u001b[01;32mboxplot.py\u001b[0m*                                      Project.ipynb\n",
      " \u001b[01;35mconsumption.png\u001b[0m                                  \u001b[01;32mQ1.py\u001b[0m*\n",
      " \u001b[01;34mData\u001b[0m/                                            \u001b[01;32mQ2.py\u001b[0m*\n",
      " demand_supply                                    \u001b[01;32mQ3.py\u001b[0m*\n",
      " \u001b[01;35mdemandSupply.png\u001b[0m                                 \u001b[01;32mQ4.py\u001b[0m*\n",
      " DeptVsWeight                                     \u001b[01;35msample.jpg\u001b[0m\n",
      " \u001b[01;32mgraphs.py\u001b[0m*                                       \u001b[01;32mscatter.py\u001b[0m*\n",
      " \u001b[01;32mhistogram.py\u001b[0m*                                    \u001b[01;35msupply.png\u001b[0m\n",
      " \u001b[01;32mhist.py\u001b[0m*                                         \u001b[01;32muntitled3.py\u001b[0m*\n",
      " housing_prices.csv                               \u001b[01;32muntitled4.py\u001b[0m*\n",
      "\u001b[01;34m'Introduction to Python'\u001b[0m/                        \u001b[01;34m'Untitled Folder'\u001b[0m/\n",
      " ipython.html                                     Untitled.ipynb\n",
      "\u001b[01;34m'Linear Regression'\u001b[0m/\n"
     ]
    }
   ],
   "source": [
    "ls"
   ]
  },
  {
   "cell_type": "code",
   "execution_count": null,
   "metadata": {},
   "outputs": [],
   "source": []
  }
 ],
 "metadata": {
  "kernelspec": {
   "display_name": "Python 3",
   "language": "python",
   "name": "python3"
  },
  "language_info": {
   "codemirror_mode": {
    "name": "ipython",
    "version": 3
   },
   "file_extension": ".py",
   "mimetype": "text/x-python",
   "name": "python",
   "nbconvert_exporter": "python",
   "pygments_lexer": "ipython3",
   "version": "3.8.5"
  }
 },
 "nbformat": 4,
 "nbformat_minor": 4
}
